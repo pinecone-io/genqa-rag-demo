{
 "cells": [
  {
   "cell_type": "markdown",
   "metadata": {},
   "source": [
    "## Install dependencies for this data pipeline\n",
    "\n",
    "Please review the dependencies before installing. The key libraries used for this data pipeline include:\n",
    "\n",
    "* OpenAI\n",
    "* Pinecone GRPC client\n",
    "* Langchain\n",
    "* Pickle"
   ]
  },
  {
   "cell_type": "code",
   "execution_count": 1,
   "metadata": {
    "ExecuteTime": {
     "end_time": "2023-07-12T16:48:02.139906Z",
     "start_time": "2023-07-12T16:47:44.636157Z"
    }
   },
   "outputs": [
    {
     "name": "stdout",
     "output_type": "stream",
     "text": [
      "Requirement already satisfied: openai==0.27.6 in /Users/williamsj/PycharmProjects/pinecone-chat/.venv/lib/python3.11/site-packages (from -r ./requirements.txt (line 1)) (0.27.6)\n",
      "Requirement already satisfied: tenacity==8.2.2 in /Users/williamsj/PycharmProjects/pinecone-chat/.venv/lib/python3.11/site-packages (from -r ./requirements.txt (line 2)) (8.2.2)\n",
      "Requirement already satisfied: typing_extensions==4.5.0 in /Users/williamsj/PycharmProjects/pinecone-chat/.venv/lib/python3.11/site-packages (from -r ./requirements.txt (line 3)) (4.5.0)\n",
      "Requirement already satisfied: pinecone-client[grpc]~=2.2.1 in /Users/williamsj/PycharmProjects/pinecone-chat/.venv/lib/python3.11/site-packages (from -r ./requirements.txt (line 4)) (2.2.2)\n",
      "Requirement already satisfied: pickleshare==0.7.5 in /Users/williamsj/PycharmProjects/pinecone-chat/.venv/lib/python3.11/site-packages (from -r ./requirements.txt (line 5)) (0.7.5)\n",
      "Requirement already satisfied: tqdm==4.65.0 in /Users/williamsj/PycharmProjects/pinecone-chat/.venv/lib/python3.11/site-packages (from -r ./requirements.txt (line 6)) (4.65.0)\n",
      "Requirement already satisfied: langchain~=0.0.203 in /Users/williamsj/PycharmProjects/pinecone-chat/.venv/lib/python3.11/site-packages (from -r ./requirements.txt (line 7)) (0.0.233)\n",
      "Requirement already satisfied: python-dotenv==0.21.0 in /Users/williamsj/PycharmProjects/pinecone-chat/.venv/lib/python3.11/site-packages (from -r ./requirements.txt (line 11)) (0.21.0)\n",
      "Requirement already satisfied: pdfminer.six==20221105 in /Users/williamsj/PycharmProjects/pinecone-chat/.venv/lib/python3.11/site-packages (from -r ./requirements.txt (line 12)) (20221105)\n",
      "Requirement already satisfied: pinecone-text in /Users/williamsj/PycharmProjects/pinecone-chat/.venv/lib/python3.11/site-packages (from -r ./requirements.txt (line 13)) (0.5.2)\n",
      "Requirement already satisfied: requests>=2.20 in /Users/williamsj/PycharmProjects/pinecone-chat/.venv/lib/python3.11/site-packages (from openai==0.27.6->-r ./requirements.txt (line 1)) (2.31.0)\n",
      "Requirement already satisfied: aiohttp in /Users/williamsj/PycharmProjects/pinecone-chat/.venv/lib/python3.11/site-packages (from openai==0.27.6->-r ./requirements.txt (line 1)) (3.8.4)\n",
      "Requirement already satisfied: charset-normalizer>=2.0.0 in /Users/williamsj/PycharmProjects/pinecone-chat/.venv/lib/python3.11/site-packages (from pdfminer.six==20221105->-r ./requirements.txt (line 12)) (3.2.0)\n",
      "Requirement already satisfied: cryptography>=36.0.0 in /Users/williamsj/PycharmProjects/pinecone-chat/.venv/lib/python3.11/site-packages (from pdfminer.six==20221105->-r ./requirements.txt (line 12)) (41.0.2)\n",
      "Requirement already satisfied: pyyaml>=5.4 in /Users/williamsj/PycharmProjects/pinecone-chat/.venv/lib/python3.11/site-packages (from pinecone-client[grpc]~=2.2.1->-r ./requirements.txt (line 4)) (6.0)\n",
      "Requirement already satisfied: loguru>=0.5.0 in /Users/williamsj/PycharmProjects/pinecone-chat/.venv/lib/python3.11/site-packages (from pinecone-client[grpc]~=2.2.1->-r ./requirements.txt (line 4)) (0.7.0)\n",
      "Requirement already satisfied: dnspython>=2.0.0 in /Users/williamsj/PycharmProjects/pinecone-chat/.venv/lib/python3.11/site-packages (from pinecone-client[grpc]~=2.2.1->-r ./requirements.txt (line 4)) (2.3.0)\n",
      "Requirement already satisfied: python-dateutil>=2.5.3 in /Users/williamsj/PycharmProjects/pinecone-chat/.venv/lib/python3.11/site-packages (from pinecone-client[grpc]~=2.2.1->-r ./requirements.txt (line 4)) (2.8.2)\n",
      "Requirement already satisfied: urllib3>=1.21.1 in /Users/williamsj/PycharmProjects/pinecone-chat/.venv/lib/python3.11/site-packages (from pinecone-client[grpc]~=2.2.1->-r ./requirements.txt (line 4)) (1.26.16)\n",
      "Requirement already satisfied: numpy>=1.22.0 in /Users/williamsj/PycharmProjects/pinecone-chat/.venv/lib/python3.11/site-packages (from pinecone-client[grpc]~=2.2.1->-r ./requirements.txt (line 4)) (1.25.1)\n",
      "Requirement already satisfied: grpcio>=1.44.0 in /Users/williamsj/PycharmProjects/pinecone-chat/.venv/lib/python3.11/site-packages (from pinecone-client[grpc]~=2.2.1->-r ./requirements.txt (line 4)) (1.56.0)\n",
      "Requirement already satisfied: grpc-gateway-protoc-gen-openapiv2==0.1.0 in /Users/williamsj/PycharmProjects/pinecone-chat/.venv/lib/python3.11/site-packages (from pinecone-client[grpc]~=2.2.1->-r ./requirements.txt (line 4)) (0.1.0)\n",
      "Requirement already satisfied: googleapis-common-protos>=1.53.0 in /Users/williamsj/PycharmProjects/pinecone-chat/.venv/lib/python3.11/site-packages (from pinecone-client[grpc]~=2.2.1->-r ./requirements.txt (line 4)) (1.59.1)\n",
      "Requirement already satisfied: lz4>=3.1.3 in /Users/williamsj/PycharmProjects/pinecone-chat/.venv/lib/python3.11/site-packages (from pinecone-client[grpc]~=2.2.1->-r ./requirements.txt (line 4)) (4.3.2)\n",
      "Requirement already satisfied: protobuf~=3.19.5 in /Users/williamsj/PycharmProjects/pinecone-chat/.venv/lib/python3.11/site-packages (from pinecone-client[grpc]~=2.2.1->-r ./requirements.txt (line 4)) (3.19.6)\n",
      "Requirement already satisfied: SQLAlchemy<3,>=1.4 in /Users/williamsj/PycharmProjects/pinecone-chat/.venv/lib/python3.11/site-packages (from langchain~=0.0.203->-r ./requirements.txt (line 7)) (2.0.18)\n",
      "Requirement already satisfied: dataclasses-json<0.6.0,>=0.5.7 in /Users/williamsj/PycharmProjects/pinecone-chat/.venv/lib/python3.11/site-packages (from langchain~=0.0.203->-r ./requirements.txt (line 7)) (0.5.9)\n",
      "Requirement already satisfied: langsmith<0.0.6,>=0.0.5 in /Users/williamsj/PycharmProjects/pinecone-chat/.venv/lib/python3.11/site-packages (from langchain~=0.0.203->-r ./requirements.txt (line 7)) (0.0.5)\n",
      "Requirement already satisfied: numexpr<3.0.0,>=2.8.4 in /Users/williamsj/PycharmProjects/pinecone-chat/.venv/lib/python3.11/site-packages (from langchain~=0.0.203->-r ./requirements.txt (line 7)) (2.8.4)\n",
      "Requirement already satisfied: openapi-schema-pydantic<2.0,>=1.2 in /Users/williamsj/PycharmProjects/pinecone-chat/.venv/lib/python3.11/site-packages (from langchain~=0.0.203->-r ./requirements.txt (line 7)) (1.2.4)\n",
      "Requirement already satisfied: pydantic<2,>=1 in /Users/williamsj/PycharmProjects/pinecone-chat/.venv/lib/python3.11/site-packages (from langchain~=0.0.203->-r ./requirements.txt (line 7)) (1.10.11)\n",
      "\u001b[33mWARNING: langchain 0.0.233 does not provide the extra 'chains'\u001b[0m\u001b[33m\n",
      "\u001b[0m\u001b[33mWARNING: langchain 0.0.233 does not provide the extra 'memory'\u001b[0m\u001b[33m\n",
      "\u001b[0mRequirement already satisfied: anthropic<0.4,>=0.3 in /Users/williamsj/PycharmProjects/pinecone-chat/.venv/lib/python3.11/site-packages (from langchain~=0.0.203->-r ./requirements.txt (line 7)) (0.3.4)\n",
      "Requirement already satisfied: clarifai>=9.1.0 in /Users/williamsj/PycharmProjects/pinecone-chat/.venv/lib/python3.11/site-packages (from langchain~=0.0.203->-r ./requirements.txt (line 7)) (9.1.0)\n",
      "Requirement already satisfied: cohere<4,>=3 in /Users/williamsj/PycharmProjects/pinecone-chat/.venv/lib/python3.11/site-packages (from langchain~=0.0.203->-r ./requirements.txt (line 7)) (3.10.0)\n",
      "Requirement already satisfied: huggingface_hub<1,>=0 in /Users/williamsj/PycharmProjects/pinecone-chat/.venv/lib/python3.11/site-packages (from langchain~=0.0.203->-r ./requirements.txt (line 7)) (0.16.4)\n",
      "Requirement already satisfied: manifest-ml<0.0.2,>=0.0.1 in /Users/williamsj/PycharmProjects/pinecone-chat/.venv/lib/python3.11/site-packages (from langchain~=0.0.203->-r ./requirements.txt (line 7)) (0.0.1)\n",
      "Requirement already satisfied: nlpcloud<2,>=1 in /Users/williamsj/PycharmProjects/pinecone-chat/.venv/lib/python3.11/site-packages (from langchain~=0.0.203->-r ./requirements.txt (line 7)) (1.1.43)\n",
      "Requirement already satisfied: openllm>=0.1.19 in /Users/williamsj/PycharmProjects/pinecone-chat/.venv/lib/python3.11/site-packages (from langchain~=0.0.203->-r ./requirements.txt (line 7)) (0.1.20)\n",
      "Requirement already satisfied: openlm<0.0.6,>=0.0.5 in /Users/williamsj/PycharmProjects/pinecone-chat/.venv/lib/python3.11/site-packages (from langchain~=0.0.203->-r ./requirements.txt (line 7)) (0.0.5)\n",
      "Requirement already satisfied: torch<3,>=1 in /Users/williamsj/PycharmProjects/pinecone-chat/.venv/lib/python3.11/site-packages (from langchain~=0.0.203->-r ./requirements.txt (line 7)) (2.0.1)\n",
      "Requirement already satisfied: transformers<5,>=4 in /Users/williamsj/PycharmProjects/pinecone-chat/.venv/lib/python3.11/site-packages (from langchain~=0.0.203->-r ./requirements.txt (line 7)) (4.30.2)\n",
      "Requirement already satisfied: mmh3<4.0.0,>=3.1.0 in /Users/williamsj/PycharmProjects/pinecone-chat/.venv/lib/python3.11/site-packages (from pinecone-text->-r ./requirements.txt (line 13)) (3.1.0)\n",
      "Requirement already satisfied: nltk<4.0.0,>=3.6.5 in /Users/williamsj/PycharmProjects/pinecone-chat/.venv/lib/python3.11/site-packages (from pinecone-text->-r ./requirements.txt (line 13)) (3.8.1)\n",
      "Requirement already satisfied: wget<4.0,>=3.2 in /Users/williamsj/PycharmProjects/pinecone-chat/.venv/lib/python3.11/site-packages (from pinecone-text->-r ./requirements.txt (line 13)) (3.2)\n",
      "Requirement already satisfied: attrs>=17.3.0 in /Users/williamsj/PycharmProjects/pinecone-chat/.venv/lib/python3.11/site-packages (from aiohttp->openai==0.27.6->-r ./requirements.txt (line 1)) (23.1.0)\n",
      "Requirement already satisfied: multidict<7.0,>=4.5 in /Users/williamsj/PycharmProjects/pinecone-chat/.venv/lib/python3.11/site-packages (from aiohttp->openai==0.27.6->-r ./requirements.txt (line 1)) (6.0.4)\n",
      "Requirement already satisfied: async-timeout<5.0,>=4.0.0a3 in /Users/williamsj/PycharmProjects/pinecone-chat/.venv/lib/python3.11/site-packages (from aiohttp->openai==0.27.6->-r ./requirements.txt (line 1)) (4.0.2)\n",
      "Requirement already satisfied: yarl<2.0,>=1.0 in /Users/williamsj/PycharmProjects/pinecone-chat/.venv/lib/python3.11/site-packages (from aiohttp->openai==0.27.6->-r ./requirements.txt (line 1)) (1.9.2)\n",
      "Requirement already satisfied: frozenlist>=1.1.1 in /Users/williamsj/PycharmProjects/pinecone-chat/.venv/lib/python3.11/site-packages (from aiohttp->openai==0.27.6->-r ./requirements.txt (line 1)) (1.4.0)\n",
      "Requirement already satisfied: aiosignal>=1.1.2 in /Users/williamsj/PycharmProjects/pinecone-chat/.venv/lib/python3.11/site-packages (from aiohttp->openai==0.27.6->-r ./requirements.txt (line 1)) (1.3.1)\n",
      "Requirement already satisfied: anyio<4,>=3.5.0 in /Users/williamsj/PycharmProjects/pinecone-chat/.venv/lib/python3.11/site-packages (from anthropic<0.4,>=0.3->langchain~=0.0.203->-r ./requirements.txt (line 7)) (3.7.1)\n",
      "Requirement already satisfied: distro<2,>=1.7.0 in /Users/williamsj/PycharmProjects/pinecone-chat/.venv/lib/python3.11/site-packages (from anthropic<0.4,>=0.3->langchain~=0.0.203->-r ./requirements.txt (line 7)) (1.8.0)\n",
      "Requirement already satisfied: httpx<1,>=0.23.0 in /Users/williamsj/PycharmProjects/pinecone-chat/.venv/lib/python3.11/site-packages (from anthropic<0.4,>=0.3->langchain~=0.0.203->-r ./requirements.txt (line 7)) (0.24.1)\n",
      "Requirement already satisfied: tokenizers>=0.13.0 in /Users/williamsj/PycharmProjects/pinecone-chat/.venv/lib/python3.11/site-packages (from anthropic<0.4,>=0.3->langchain~=0.0.203->-r ./requirements.txt (line 7)) (0.13.3)\n",
      "Requirement already satisfied: clarifai-grpc>=9.1.0 in /Users/williamsj/PycharmProjects/pinecone-chat/.venv/lib/python3.11/site-packages (from clarifai>=9.1.0->langchain~=0.0.203->-r ./requirements.txt (line 7)) (9.1.1)\n",
      "Requirement already satisfied: cffi>=1.12 in /Users/williamsj/PycharmProjects/pinecone-chat/.venv/lib/python3.11/site-packages (from cryptography>=36.0.0->pdfminer.six==20221105->-r ./requirements.txt (line 12)) (1.15.1)\n",
      "Requirement already satisfied: marshmallow<4.0.0,>=3.3.0 in /Users/williamsj/PycharmProjects/pinecone-chat/.venv/lib/python3.11/site-packages (from dataclasses-json<0.6.0,>=0.5.7->langchain~=0.0.203->-r ./requirements.txt (line 7)) (3.19.0)\n",
      "Requirement already satisfied: marshmallow-enum<2.0.0,>=1.5.1 in /Users/williamsj/PycharmProjects/pinecone-chat/.venv/lib/python3.11/site-packages (from dataclasses-json<0.6.0,>=0.5.7->langchain~=0.0.203->-r ./requirements.txt (line 7)) (1.5.1)\n",
      "Requirement already satisfied: typing-inspect>=0.4.0 in /Users/williamsj/PycharmProjects/pinecone-chat/.venv/lib/python3.11/site-packages (from dataclasses-json<0.6.0,>=0.5.7->langchain~=0.0.203->-r ./requirements.txt (line 7)) (0.9.0)\n",
      "Requirement already satisfied: filelock in /Users/williamsj/PycharmProjects/pinecone-chat/.venv/lib/python3.11/site-packages (from huggingface_hub<1,>=0->langchain~=0.0.203->-r ./requirements.txt (line 7)) (3.12.2)\n",
      "Requirement already satisfied: fsspec in /Users/williamsj/PycharmProjects/pinecone-chat/.venv/lib/python3.11/site-packages (from huggingface_hub<1,>=0->langchain~=0.0.203->-r ./requirements.txt (line 7)) (2023.6.0)\n",
      "Requirement already satisfied: packaging>=20.9 in /Users/williamsj/PycharmProjects/pinecone-chat/.venv/lib/python3.11/site-packages (from huggingface_hub<1,>=0->langchain~=0.0.203->-r ./requirements.txt (line 7)) (23.1)\n",
      "Requirement already satisfied: dill>=0.3.5 in /Users/williamsj/PycharmProjects/pinecone-chat/.venv/lib/python3.11/site-packages (from manifest-ml<0.0.2,>=0.0.1->langchain~=0.0.203->-r ./requirements.txt (line 7)) (0.3.6)\n",
      "Requirement already satisfied: redis>=4.3.1 in /Users/williamsj/PycharmProjects/pinecone-chat/.venv/lib/python3.11/site-packages (from manifest-ml<0.0.2,>=0.0.1->langchain~=0.0.203->-r ./requirements.txt (line 7)) (4.6.0)\n",
      "Requirement already satisfied: sqlitedict>=2.0.0 in /Users/williamsj/PycharmProjects/pinecone-chat/.venv/lib/python3.11/site-packages (from manifest-ml<0.0.2,>=0.0.1->langchain~=0.0.203->-r ./requirements.txt (line 7)) (2.1.0)\n",
      "Requirement already satisfied: click in /Users/williamsj/PycharmProjects/pinecone-chat/.venv/lib/python3.11/site-packages (from nltk<4.0.0,>=3.6.5->pinecone-text->-r ./requirements.txt (line 13)) (8.1.5)\n",
      "Requirement already satisfied: joblib in /Users/williamsj/PycharmProjects/pinecone-chat/.venv/lib/python3.11/site-packages (from nltk<4.0.0,>=3.6.5->pinecone-text->-r ./requirements.txt (line 13)) (1.3.1)\n",
      "Requirement already satisfied: regex>=2021.8.3 in /Users/williamsj/PycharmProjects/pinecone-chat/.venv/lib/python3.11/site-packages (from nltk<4.0.0,>=3.6.5->pinecone-text->-r ./requirements.txt (line 13)) (2023.6.3)\n",
      "Requirement already satisfied: bentoml[grpc,io]>=1.0.22 in /Users/williamsj/PycharmProjects/pinecone-chat/.venv/lib/python3.11/site-packages (from openllm>=0.1.19->langchain~=0.0.203->-r ./requirements.txt (line 7)) (1.0.23)\n",
      "Requirement already satisfied: cattrs>=23.1.0 in /Users/williamsj/PycharmProjects/pinecone-chat/.venv/lib/python3.11/site-packages (from openllm>=0.1.19->langchain~=0.0.203->-r ./requirements.txt (line 7)) (23.1.2)\n",
      "Requirement already satisfied: inflection in /Users/williamsj/PycharmProjects/pinecone-chat/.venv/lib/python3.11/site-packages (from openllm>=0.1.19->langchain~=0.0.203->-r ./requirements.txt (line 7)) (0.5.1)\n",
      "Requirement already satisfied: optimum in /Users/williamsj/PycharmProjects/pinecone-chat/.venv/lib/python3.11/site-packages (from openllm>=0.1.19->langchain~=0.0.203->-r ./requirements.txt (line 7)) (1.9.1)\n",
      "Requirement already satisfied: orjson in /Users/williamsj/PycharmProjects/pinecone-chat/.venv/lib/python3.11/site-packages (from openllm>=0.1.19->langchain~=0.0.203->-r ./requirements.txt (line 7)) (3.9.2)\n",
      "Requirement already satisfied: tabulate[widechars]>=0.9.0 in /Users/williamsj/PycharmProjects/pinecone-chat/.venv/lib/python3.11/site-packages (from openllm>=0.1.19->langchain~=0.0.203->-r ./requirements.txt (line 7)) (0.9.0)\n",
      "Requirement already satisfied: six>=1.5 in /Users/williamsj/PycharmProjects/pinecone-chat/.venv/lib/python3.11/site-packages (from python-dateutil>=2.5.3->pinecone-client[grpc]~=2.2.1->-r ./requirements.txt (line 4)) (1.16.0)\n",
      "Requirement already satisfied: idna<4,>=2.5 in /Users/williamsj/PycharmProjects/pinecone-chat/.venv/lib/python3.11/site-packages (from requests>=2.20->openai==0.27.6->-r ./requirements.txt (line 1)) (3.4)\n",
      "Requirement already satisfied: certifi>=2017.4.17 in /Users/williamsj/PycharmProjects/pinecone-chat/.venv/lib/python3.11/site-packages (from requests>=2.20->openai==0.27.6->-r ./requirements.txt (line 1)) (2023.5.7)\n",
      "Requirement already satisfied: sympy in /Users/williamsj/PycharmProjects/pinecone-chat/.venv/lib/python3.11/site-packages (from torch<3,>=1->langchain~=0.0.203->-r ./requirements.txt (line 7)) (1.12)\n",
      "Requirement already satisfied: networkx in /Users/williamsj/PycharmProjects/pinecone-chat/.venv/lib/python3.11/site-packages (from torch<3,>=1->langchain~=0.0.203->-r ./requirements.txt (line 7)) (3.1)\n",
      "Requirement already satisfied: jinja2 in /Users/williamsj/PycharmProjects/pinecone-chat/.venv/lib/python3.11/site-packages (from torch<3,>=1->langchain~=0.0.203->-r ./requirements.txt (line 7)) (3.1.2)\n",
      "Requirement already satisfied: safetensors>=0.3.1 in /Users/williamsj/PycharmProjects/pinecone-chat/.venv/lib/python3.11/site-packages (from transformers<5,>=4->langchain~=0.0.203->-r ./requirements.txt (line 7)) (0.3.1)\n",
      "Requirement already satisfied: sniffio>=1.1 in /Users/williamsj/PycharmProjects/pinecone-chat/.venv/lib/python3.11/site-packages (from anyio<4,>=3.5.0->anthropic<0.4,>=0.3->langchain~=0.0.203->-r ./requirements.txt (line 7)) (1.3.0)\n",
      "Requirement already satisfied: circus!=0.17.2,>=0.17.0 in /Users/williamsj/PycharmProjects/pinecone-chat/.venv/lib/python3.11/site-packages (from bentoml[grpc,io]>=1.0.22->openllm>=0.1.19->langchain~=0.0.203->-r ./requirements.txt (line 7)) (0.18.0)\n",
      "Requirement already satisfied: click-option-group in /Users/williamsj/PycharmProjects/pinecone-chat/.venv/lib/python3.11/site-packages (from bentoml[grpc,io]>=1.0.22->openllm>=0.1.19->langchain~=0.0.203->-r ./requirements.txt (line 7)) (0.5.6)\n",
      "Requirement already satisfied: cloudpickle in /Users/williamsj/PycharmProjects/pinecone-chat/.venv/lib/python3.11/site-packages (from bentoml[grpc,io]>=1.0.22->openllm>=0.1.19->langchain~=0.0.203->-r ./requirements.txt (line 7)) (2.2.1)\n",
      "Requirement already satisfied: deepmerge in /Users/williamsj/PycharmProjects/pinecone-chat/.venv/lib/python3.11/site-packages (from bentoml[grpc,io]>=1.0.22->openllm>=0.1.19->langchain~=0.0.203->-r ./requirements.txt (line 7)) (1.1.0)\n",
      "Requirement already satisfied: fs in /Users/williamsj/PycharmProjects/pinecone-chat/.venv/lib/python3.11/site-packages (from bentoml[grpc,io]>=1.0.22->openllm>=0.1.19->langchain~=0.0.203->-r ./requirements.txt (line 7)) (2.4.16)\n",
      "Requirement already satisfied: opentelemetry-api==1.17.0 in /Users/williamsj/PycharmProjects/pinecone-chat/.venv/lib/python3.11/site-packages (from bentoml[grpc,io]>=1.0.22->openllm>=0.1.19->langchain~=0.0.203->-r ./requirements.txt (line 7)) (1.17.0)\n",
      "Requirement already satisfied: opentelemetry-sdk==1.17.0 in /Users/williamsj/PycharmProjects/pinecone-chat/.venv/lib/python3.11/site-packages (from bentoml[grpc,io]>=1.0.22->openllm>=0.1.19->langchain~=0.0.203->-r ./requirements.txt (line 7)) (1.17.0)\n",
      "Requirement already satisfied: opentelemetry-instrumentation==0.38b0 in /Users/williamsj/PycharmProjects/pinecone-chat/.venv/lib/python3.11/site-packages (from bentoml[grpc,io]>=1.0.22->openllm>=0.1.19->langchain~=0.0.203->-r ./requirements.txt (line 7)) (0.38b0)\n",
      "Requirement already satisfied: opentelemetry-instrumentation-aiohttp-client==0.38b0 in /Users/williamsj/PycharmProjects/pinecone-chat/.venv/lib/python3.11/site-packages (from bentoml[grpc,io]>=1.0.22->openllm>=0.1.19->langchain~=0.0.203->-r ./requirements.txt (line 7)) (0.38b0)\n",
      "Requirement already satisfied: opentelemetry-instrumentation-asgi==0.38b0 in /Users/williamsj/PycharmProjects/pinecone-chat/.venv/lib/python3.11/site-packages (from bentoml[grpc,io]>=1.0.22->openllm>=0.1.19->langchain~=0.0.203->-r ./requirements.txt (line 7)) (0.38b0)\n",
      "Requirement already satisfied: opentelemetry-semantic-conventions==0.38b0 in /Users/williamsj/PycharmProjects/pinecone-chat/.venv/lib/python3.11/site-packages (from bentoml[grpc,io]>=1.0.22->openllm>=0.1.19->langchain~=0.0.203->-r ./requirements.txt (line 7)) (0.38b0)\n",
      "Requirement already satisfied: opentelemetry-util-http==0.38b0 in /Users/williamsj/PycharmProjects/pinecone-chat/.venv/lib/python3.11/site-packages (from bentoml[grpc,io]>=1.0.22->openllm>=0.1.19->langchain~=0.0.203->-r ./requirements.txt (line 7)) (0.38b0)\n",
      "Requirement already satisfied: pathspec in /Users/williamsj/PycharmProjects/pinecone-chat/.venv/lib/python3.11/site-packages (from bentoml[grpc,io]>=1.0.22->openllm>=0.1.19->langchain~=0.0.203->-r ./requirements.txt (line 7)) (0.11.1)\n",
      "Requirement already satisfied: pip-tools>=6.6.2 in /Users/williamsj/PycharmProjects/pinecone-chat/.venv/lib/python3.11/site-packages (from bentoml[grpc,io]>=1.0.22->openllm>=0.1.19->langchain~=0.0.203->-r ./requirements.txt (line 7)) (6.14.0)\n",
      "Requirement already satisfied: pip-requirements-parser>=31.2.0 in /Users/williamsj/PycharmProjects/pinecone-chat/.venv/lib/python3.11/site-packages (from bentoml[grpc,io]>=1.0.22->openllm>=0.1.19->langchain~=0.0.203->-r ./requirements.txt (line 7)) (32.0.1)\n",
      "Requirement already satisfied: prometheus-client>=0.10.0 in /Users/williamsj/PycharmProjects/pinecone-chat/.venv/lib/python3.11/site-packages (from bentoml[grpc,io]>=1.0.22->openllm>=0.1.19->langchain~=0.0.203->-r ./requirements.txt (line 7)) (0.17.1)\n",
      "Requirement already satisfied: psutil in /Users/williamsj/PycharmProjects/pinecone-chat/.venv/lib/python3.11/site-packages (from bentoml[grpc,io]>=1.0.22->openllm>=0.1.19->langchain~=0.0.203->-r ./requirements.txt (line 7)) (5.9.5)\n",
      "Requirement already satisfied: pynvml<12 in /Users/williamsj/PycharmProjects/pinecone-chat/.venv/lib/python3.11/site-packages (from bentoml[grpc,io]>=1.0.22->openllm>=0.1.19->langchain~=0.0.203->-r ./requirements.txt (line 7)) (11.5.0)\n",
      "Requirement already satisfied: python-multipart in /Users/williamsj/PycharmProjects/pinecone-chat/.venv/lib/python3.11/site-packages (from bentoml[grpc,io]>=1.0.22->openllm>=0.1.19->langchain~=0.0.203->-r ./requirements.txt (line 7)) (0.0.6)\n",
      "Requirement already satisfied: python-json-logger in /Users/williamsj/PycharmProjects/pinecone-chat/.venv/lib/python3.11/site-packages (from bentoml[grpc,io]>=1.0.22->openllm>=0.1.19->langchain~=0.0.203->-r ./requirements.txt (line 7)) (2.0.7)\n",
      "Requirement already satisfied: rich>=11.2.0 in /Users/williamsj/PycharmProjects/pinecone-chat/.venv/lib/python3.11/site-packages (from bentoml[grpc,io]>=1.0.22->openllm>=0.1.19->langchain~=0.0.203->-r ./requirements.txt (line 7)) (13.4.2)\n",
      "Requirement already satisfied: schema in /Users/williamsj/PycharmProjects/pinecone-chat/.venv/lib/python3.11/site-packages (from bentoml[grpc,io]>=1.0.22->openllm>=0.1.19->langchain~=0.0.203->-r ./requirements.txt (line 7)) (0.7.5)\n",
      "Requirement already satisfied: simple-di>=0.1.4 in /Users/williamsj/PycharmProjects/pinecone-chat/.venv/lib/python3.11/site-packages (from bentoml[grpc,io]>=1.0.22->openllm>=0.1.19->langchain~=0.0.203->-r ./requirements.txt (line 7)) (0.1.5)\n",
      "Requirement already satisfied: starlette<0.29,>=0.13.5 in /Users/williamsj/PycharmProjects/pinecone-chat/.venv/lib/python3.11/site-packages (from bentoml[grpc,io]>=1.0.22->openllm>=0.1.19->langchain~=0.0.203->-r ./requirements.txt (line 7)) (0.28.0)\n",
      "Requirement already satisfied: uvicorn in /Users/williamsj/PycharmProjects/pinecone-chat/.venv/lib/python3.11/site-packages (from bentoml[grpc,io]>=1.0.22->openllm>=0.1.19->langchain~=0.0.203->-r ./requirements.txt (line 7)) (0.22.0)\n",
      "Requirement already satisfied: watchfiles>=0.15.0 in /Users/williamsj/PycharmProjects/pinecone-chat/.venv/lib/python3.11/site-packages (from bentoml[grpc,io]>=1.0.22->openllm>=0.1.19->langchain~=0.0.203->-r ./requirements.txt (line 7)) (0.19.0)\n",
      "Requirement already satisfied: grpcio-health-checking in /Users/williamsj/PycharmProjects/pinecone-chat/.venv/lib/python3.11/site-packages (from bentoml[grpc,io]>=1.0.22->openllm>=0.1.19->langchain~=0.0.203->-r ./requirements.txt (line 7)) (1.48.2)\n",
      "Requirement already satisfied: opentelemetry-instrumentation-grpc==0.38b0 in /Users/williamsj/PycharmProjects/pinecone-chat/.venv/lib/python3.11/site-packages (from bentoml[grpc,io]>=1.0.22->openllm>=0.1.19->langchain~=0.0.203->-r ./requirements.txt (line 7)) (0.38b0)\n",
      "Requirement already satisfied: deprecated>=1.2.6 in /Users/williamsj/PycharmProjects/pinecone-chat/.venv/lib/python3.11/site-packages (from opentelemetry-api==1.17.0->bentoml[grpc,io]>=1.0.22->openllm>=0.1.19->langchain~=0.0.203->-r ./requirements.txt (line 7)) (1.2.14)\n",
      "Requirement already satisfied: importlib-metadata~=6.0.0 in /Users/williamsj/PycharmProjects/pinecone-chat/.venv/lib/python3.11/site-packages (from opentelemetry-api==1.17.0->bentoml[grpc,io]>=1.0.22->openllm>=0.1.19->langchain~=0.0.203->-r ./requirements.txt (line 7)) (6.0.1)\n",
      "Requirement already satisfied: setuptools>=16.0 in /Users/williamsj/PycharmProjects/pinecone-chat/.venv/lib/python3.11/site-packages (from opentelemetry-api==1.17.0->bentoml[grpc,io]>=1.0.22->openllm>=0.1.19->langchain~=0.0.203->-r ./requirements.txt (line 7)) (65.5.0)\n",
      "Requirement already satisfied: wrapt<2.0.0,>=1.0.0 in /Users/williamsj/PycharmProjects/pinecone-chat/.venv/lib/python3.11/site-packages (from opentelemetry-instrumentation==0.38b0->bentoml[grpc,io]>=1.0.22->openllm>=0.1.19->langchain~=0.0.203->-r ./requirements.txt (line 7)) (1.15.0)\n",
      "Requirement already satisfied: asgiref~=3.0 in /Users/williamsj/PycharmProjects/pinecone-chat/.venv/lib/python3.11/site-packages (from opentelemetry-instrumentation-asgi==0.38b0->bentoml[grpc,io]>=1.0.22->openllm>=0.1.19->langchain~=0.0.203->-r ./requirements.txt (line 7)) (3.7.2)\n",
      "Requirement already satisfied: pycparser in /Users/williamsj/PycharmProjects/pinecone-chat/.venv/lib/python3.11/site-packages (from cffi>=1.12->cryptography>=36.0.0->pdfminer.six==20221105->-r ./requirements.txt (line 12)) (2.21)\n",
      "Requirement already satisfied: httpcore<0.18.0,>=0.15.0 in /Users/williamsj/PycharmProjects/pinecone-chat/.venv/lib/python3.11/site-packages (from httpx<1,>=0.23.0->anthropic<0.4,>=0.3->langchain~=0.0.203->-r ./requirements.txt (line 7)) (0.17.3)\n",
      "Requirement already satisfied: MarkupSafe>=2.0 in /Users/williamsj/PycharmProjects/pinecone-chat/.venv/lib/python3.11/site-packages (from jinja2->torch<3,>=1->langchain~=0.0.203->-r ./requirements.txt (line 7)) (2.1.3)\n",
      "Requirement already satisfied: wcwidth in /Users/williamsj/PycharmProjects/pinecone-chat/.venv/lib/python3.11/site-packages (from tabulate[widechars]>=0.9.0->openllm>=0.1.19->langchain~=0.0.203->-r ./requirements.txt (line 7)) (0.2.6)\n",
      "Requirement already satisfied: accelerate>=0.20.2 in /Users/williamsj/PycharmProjects/pinecone-chat/.venv/lib/python3.11/site-packages (from transformers<5,>=4->langchain~=0.0.203->-r ./requirements.txt (line 7)) (0.21.0)\n",
      "Requirement already satisfied: mypy-extensions>=0.3.0 in /Users/williamsj/PycharmProjects/pinecone-chat/.venv/lib/python3.11/site-packages (from typing-inspect>=0.4.0->dataclasses-json<0.6.0,>=0.5.7->langchain~=0.0.203->-r ./requirements.txt (line 7)) (1.0.0)\n",
      "Requirement already satisfied: coloredlogs in /Users/williamsj/PycharmProjects/pinecone-chat/.venv/lib/python3.11/site-packages (from optimum->openllm>=0.1.19->langchain~=0.0.203->-r ./requirements.txt (line 7)) (15.0.1)\n",
      "Requirement already satisfied: datasets in /Users/williamsj/PycharmProjects/pinecone-chat/.venv/lib/python3.11/site-packages (from optimum->openllm>=0.1.19->langchain~=0.0.203->-r ./requirements.txt (line 7)) (2.13.1)\n",
      "Requirement already satisfied: mpmath>=0.19 in /Users/williamsj/PycharmProjects/pinecone-chat/.venv/lib/python3.11/site-packages (from sympy->torch<3,>=1->langchain~=0.0.203->-r ./requirements.txt (line 7)) (1.3.0)\n",
      "Requirement already satisfied: pyzmq>=17.0 in /Users/williamsj/PycharmProjects/pinecone-chat/.venv/lib/python3.11/site-packages (from circus!=0.17.2,>=0.17.0->bentoml[grpc,io]>=1.0.22->openllm>=0.1.19->langchain~=0.0.203->-r ./requirements.txt (line 7)) (25.1.0)\n",
      "Requirement already satisfied: tornado>=5.0.2 in /Users/williamsj/PycharmProjects/pinecone-chat/.venv/lib/python3.11/site-packages (from circus!=0.17.2,>=0.17.0->bentoml[grpc,io]>=1.0.22->openllm>=0.1.19->langchain~=0.0.203->-r ./requirements.txt (line 7)) (6.3.2)\n",
      "Requirement already satisfied: h11<0.15,>=0.13 in /Users/williamsj/PycharmProjects/pinecone-chat/.venv/lib/python3.11/site-packages (from httpcore<0.18.0,>=0.15.0->httpx<1,>=0.23.0->anthropic<0.4,>=0.3->langchain~=0.0.203->-r ./requirements.txt (line 7)) (0.14.0)\n",
      "Requirement already satisfied: pyparsing in /Users/williamsj/PycharmProjects/pinecone-chat/.venv/lib/python3.11/site-packages (from pip-requirements-parser>=31.2.0->bentoml[grpc,io]>=1.0.22->openllm>=0.1.19->langchain~=0.0.203->-r ./requirements.txt (line 7)) (3.1.0)\n",
      "Requirement already satisfied: build in /Users/williamsj/PycharmProjects/pinecone-chat/.venv/lib/python3.11/site-packages (from pip-tools>=6.6.2->bentoml[grpc,io]>=1.0.22->openllm>=0.1.19->langchain~=0.0.203->-r ./requirements.txt (line 7)) (0.10.0)\n",
      "Requirement already satisfied: pip>=22.2 in /Users/williamsj/PycharmProjects/pinecone-chat/.venv/lib/python3.11/site-packages (from pip-tools>=6.6.2->bentoml[grpc,io]>=1.0.22->openllm>=0.1.19->langchain~=0.0.203->-r ./requirements.txt (line 7)) (23.1.2)\n",
      "Requirement already satisfied: wheel in /Users/williamsj/PycharmProjects/pinecone-chat/.venv/lib/python3.11/site-packages (from pip-tools>=6.6.2->bentoml[grpc,io]>=1.0.22->openllm>=0.1.19->langchain~=0.0.203->-r ./requirements.txt (line 7)) (0.40.0)\n",
      "Requirement already satisfied: markdown-it-py>=2.2.0 in /Users/williamsj/PycharmProjects/pinecone-chat/.venv/lib/python3.11/site-packages (from rich>=11.2.0->bentoml[grpc,io]>=1.0.22->openllm>=0.1.19->langchain~=0.0.203->-r ./requirements.txt (line 7)) (3.0.0)\n",
      "Requirement already satisfied: pygments<3.0.0,>=2.13.0 in /Users/williamsj/PycharmProjects/pinecone-chat/.venv/lib/python3.11/site-packages (from rich>=11.2.0->bentoml[grpc,io]>=1.0.22->openllm>=0.1.19->langchain~=0.0.203->-r ./requirements.txt (line 7)) (2.15.1)\n",
      "Requirement already satisfied: sentencepiece!=0.1.92,>=0.1.91 in /Users/williamsj/PycharmProjects/pinecone-chat/.venv/lib/python3.11/site-packages (from transformers<5,>=4->langchain~=0.0.203->-r ./requirements.txt (line 7)) (0.1.99)\n",
      "Requirement already satisfied: filetype in /Users/williamsj/PycharmProjects/pinecone-chat/.venv/lib/python3.11/site-packages (from bentoml[grpc,io]>=1.0.22->openllm>=0.1.19->langchain~=0.0.203->-r ./requirements.txt (line 7)) (1.2.0)\n",
      "Requirement already satisfied: Pillow in /Users/williamsj/PycharmProjects/pinecone-chat/.venv/lib/python3.11/site-packages (from bentoml[grpc,io]>=1.0.22->openllm>=0.1.19->langchain~=0.0.203->-r ./requirements.txt (line 7)) (10.0.0)\n",
      "Requirement already satisfied: pandas in /Users/williamsj/PycharmProjects/pinecone-chat/.venv/lib/python3.11/site-packages (from bentoml[grpc,io]>=1.0.22->openllm>=0.1.19->langchain~=0.0.203->-r ./requirements.txt (line 7)) (1.5.3)\n",
      "Requirement already satisfied: pyarrow in /Users/williamsj/PycharmProjects/pinecone-chat/.venv/lib/python3.11/site-packages (from bentoml[grpc,io]>=1.0.22->openllm>=0.1.19->langchain~=0.0.203->-r ./requirements.txt (line 7)) (12.0.1)\n",
      "Requirement already satisfied: humanfriendly>=9.1 in /Users/williamsj/PycharmProjects/pinecone-chat/.venv/lib/python3.11/site-packages (from coloredlogs->optimum->openllm>=0.1.19->langchain~=0.0.203->-r ./requirements.txt (line 7)) (10.0)\n",
      "Requirement already satisfied: xxhash in /Users/williamsj/PycharmProjects/pinecone-chat/.venv/lib/python3.11/site-packages (from datasets->optimum->openllm>=0.1.19->langchain~=0.0.203->-r ./requirements.txt (line 7)) (3.2.0)\n",
      "Requirement already satisfied: multiprocess in /Users/williamsj/PycharmProjects/pinecone-chat/.venv/lib/python3.11/site-packages (from datasets->optimum->openllm>=0.1.19->langchain~=0.0.203->-r ./requirements.txt (line 7)) (0.70.14)\n",
      "Requirement already satisfied: appdirs~=1.4.3 in /Users/williamsj/PycharmProjects/pinecone-chat/.venv/lib/python3.11/site-packages (from fs->bentoml[grpc,io]>=1.0.22->openllm>=0.1.19->langchain~=0.0.203->-r ./requirements.txt (line 7)) (1.4.4)\n",
      "Requirement already satisfied: contextlib2>=0.5.5 in /Users/williamsj/PycharmProjects/pinecone-chat/.venv/lib/python3.11/site-packages (from schema->bentoml[grpc,io]>=1.0.22->openllm>=0.1.19->langchain~=0.0.203->-r ./requirements.txt (line 7)) (21.6.0)\n",
      "Requirement already satisfied: zipp>=0.5 in /Users/williamsj/PycharmProjects/pinecone-chat/.venv/lib/python3.11/site-packages (from importlib-metadata~=6.0.0->opentelemetry-api==1.17.0->bentoml[grpc,io]>=1.0.22->openllm>=0.1.19->langchain~=0.0.203->-r ./requirements.txt (line 7)) (3.16.1)\n",
      "Requirement already satisfied: mdurl~=0.1 in /Users/williamsj/PycharmProjects/pinecone-chat/.venv/lib/python3.11/site-packages (from markdown-it-py>=2.2.0->rich>=11.2.0->bentoml[grpc,io]>=1.0.22->openllm>=0.1.19->langchain~=0.0.203->-r ./requirements.txt (line 7)) (0.1.2)\n",
      "Requirement already satisfied: pyproject_hooks in /Users/williamsj/PycharmProjects/pinecone-chat/.venv/lib/python3.11/site-packages (from build->pip-tools>=6.6.2->bentoml[grpc,io]>=1.0.22->openllm>=0.1.19->langchain~=0.0.203->-r ./requirements.txt (line 7)) (1.0.0)\n",
      "Requirement already satisfied: pytz>=2020.1 in /Users/williamsj/PycharmProjects/pinecone-chat/.venv/lib/python3.11/site-packages (from pandas->bentoml[grpc,io]>=1.0.22->openllm>=0.1.19->langchain~=0.0.203->-r ./requirements.txt (line 7)) (2023.3)\n",
      "\n",
      "\u001b[1m[\u001b[0m\u001b[34;49mnotice\u001b[0m\u001b[1;39;49m]\u001b[0m\u001b[39;49m A new release of pip is available: \u001b[0m\u001b[31;49m23.1.2\u001b[0m\u001b[39;49m -> \u001b[0m\u001b[32;49m23.2.1\u001b[0m\n",
      "\u001b[1m[\u001b[0m\u001b[34;49mnotice\u001b[0m\u001b[1;39;49m]\u001b[0m\u001b[39;49m To update, run: \u001b[0m\u001b[32;49mpip install --upgrade pip\u001b[0m\n",
      "Note: you may need to restart the kernel to use updated packages.\n"
     ]
    }
   ],
   "source": [
    "pip install -r './requirements.txt'"
   ]
  },
  {
   "cell_type": "code",
   "execution_count": 2,
   "metadata": {
    "ExecuteTime": {
     "end_time": "2023-06-26T12:48:55.541370Z",
     "start_time": "2023-06-26T12:48:55.533454Z"
    }
   },
   "outputs": [],
   "source": [
    "from dotenv import load_dotenv\n",
    "import os\n",
    "\n",
    "load_dotenv()\n",
    "\n",
    "OPENAI_API_KEY = os.environ['OPENAI_API_KEY']\n",
    "PINECONE_API_KEY = os.environ['PINECONE_API_KEY']\n",
    "PINECONE_API_ENV = os.environ['PINECONE_API_ENV']\n",
    "PINECONE_INDEX_NAME = os.environ['PINECONE_INDEX_NAME']\n",
    "PINECONE_NAMESPACE = os.environ['PINECONE_NAMESPACE']\n",
    "PDF_SOURCE_FILE = os.environ['PDF_SOURCE_FILE']\n",
    "SOURCE_TEXT_FILE= f\"./data/{os.environ['PINECONE_NAMESPACE']}-source_data.txt\"\n",
    "EMBEDDING_ARCHIVE_FILE = f\"./data/{os.environ['PINECONE_NAMESPACE']}-embeddings.pickle\""
   ]
  },
  {
   "cell_type": "markdown",
   "metadata": {},
   "source": [
    "## Set Pinecone and OpenAI API keys as environment variables\n",
    "\n",
    "You must have a '.env' file that contains the following variables:\n",
    "\n",
    "```\n",
    "OPENAI_API_KEY = 'YOUR OPENAI KEY'\n",
    "PINECONE_API_KEY = 'YOUR PINECONE KEY'\n",
    "PINECONE_API_ENV = 'YOUR PINECONE API ENV'\n",
    "PINECONE_INDEX_NAME = 'YOUR PINECONE INDEX NAME'\n",
    "```"
   ]
  },
  {
   "cell_type": "code",
   "execution_count": 3,
   "metadata": {
    "ExecuteTime": {
     "end_time": "2023-06-26T12:54:50.528094Z",
     "start_time": "2023-06-26T12:54:49.620720Z"
    }
   },
   "outputs": [
    {
     "name": "stderr",
     "output_type": "stream",
     "text": [
      "/Users/williamsj/PycharmProjects/pinecone-chat/.venv/lib/python3.11/site-packages/pinecone/index.py:4: TqdmWarning: IProgress not found. Please update jupyter and ipywidgets. See https://ipywidgets.readthedocs.io/en/stable/user_install.html\n",
      "  from tqdm.autonotebook import tqdm\n"
     ]
    },
    {
     "data": {
      "text/plain": [
       "{'dimension': 1536,\n",
       " 'index_fullness': 0.0,\n",
       " 'namespaces': {'adp': {'vector_count': 301}},\n",
       " 'total_vector_count': 301}"
      ]
     },
     "execution_count": 3,
     "metadata": {},
     "output_type": "execute_result"
    }
   ],
   "source": [
    "import pinecone\n",
    "\n",
    "index_name = PINECONE_INDEX_NAME\n",
    "\n",
    "# initialize connection to pinecone (get API key at app.pinecone.io)\n",
    "pinecone.init(\n",
    "    api_key=PINECONE_API_KEY,\n",
    "    environment=PINECONE_API_ENV  # may be different, check at app.pinecone.io\n",
    ")\n",
    "\n",
    "if index_name not in pinecone.list_indexes():\n",
    "    # if does not exist, create index\n",
    "    pinecone.create_index(\n",
    "        index_name,\n",
    "        dimension=1536,\n",
    "        metric='cosine',\n",
    "        metadata_config={'indexed': ['unused']},\n",
    "        pod_type='p1.x1'\n",
    "    )\n",
    "# connect to index\n",
    "index = pinecone.Index(index_name)\n",
    "# view index stats\n",
    "index.describe_index_stats()"
   ]
  },
  {
   "cell_type": "markdown",
   "metadata": {},
   "source": [
    "## Create pinecone index for the vector embeddings\n",
    "\n",
    "If the index doesn't exist, then create it. Be sure to set:\n",
    "\n",
    "* dimension = '1536' - OpenAI embeddings use 1536 dimension vectors\n",
    "* metric = 'cosine' - Other metric options are available but this value usually is best\n",
    "* pod_type = 'p1.x1' - This is a low latency pod type"
   ]
  },
  {
   "cell_type": "markdown",
   "metadata": {},
   "source": [
    "## Define text chunking, text transformation and embedding creation\n",
    "\n",
    "Define methods that use chunking with overlap to transform records into Pinecone vector records."
   ]
  },
  {
   "cell_type": "code",
   "execution_count": 4,
   "metadata": {
    "ExecuteTime": {
     "end_time": "2023-06-26T12:40:59.324906Z",
     "start_time": "2023-06-26T12:40:57.735191Z"
    }
   },
   "outputs": [],
   "source": [
    "import openai\n",
    "from tenacity import retry, wait_random_exponential, stop_after_attempt, retry_if_not_exception_type\n",
    "from typing import List\n",
    "from uuid import uuid4\n",
    "import textwrap\n",
    "import pandas as pd\n",
    "from pinecone_text.sparse import BM25Encoder\n",
    "openai.api_key = OPENAI_API_KEY\n",
    "EMBEDDING_MODEL = 'text-embedding-ada-002'\n",
    "EMBEDDING_CTX_LENGTH = 8191\n",
    "EMBEDDING_ENCODING = 'cl100k_base'\n",
    "\n",
    "# let's make sure to not retry on an invalid request, because that is what we want to demonstrate\n",
    "@retry(wait=wait_random_exponential(min=1, max=20), stop=stop_after_attempt(6), retry=retry_if_not_exception_type(openai.InvalidRequestError))\n",
    "def get_embedding(text_or_tokens, model=EMBEDDING_MODEL):\n",
    "    return openai.Embedding.create(input=text_or_tokens, model=model)\n",
    "\n",
    "def chunk_text(text: str, max_chunk_size: int, overlap_size: int) -> List[str]:\n",
    "    \"\"\"Helper function to chunk a text into overlapping chunks of specified size.\"\"\"\n",
    "    chunks = []\n",
    "    start = 0\n",
    "    while start < len(text):\n",
    "        end = min(start + max_chunk_size, len(text))\n",
    "        chunks.append(text[start:end])\n",
    "        start += max_chunk_size - overlap_size\n",
    "    return chunks\n",
    "\n",
    "def transform_record(record: dict) -> List[dict]:\n",
    "    \"\"\"Transform a single record as described in the prompt.\"\"\"\n",
    "    max_chunk_size = 500\n",
    "    overlap_size = 100\n",
    "    chunks = chunk_text(record, max_chunk_size, overlap_size)\n",
    "    transformed_records = []\n",
    "    recordId = str(uuid4())\n",
    "    for i, chunk in enumerate(chunks):\n",
    "        chunk_id = f\"{recordId}-{i+1}\"\n",
    "        \n",
    "        transformed_records.append({\n",
    "            'chunk_id': chunk_id,\n",
    "            'chunk_parent_id': recordId,\n",
    "            'chunk_text': chunk,\n",
    "            'vector': get_embedding(chunk).get('data')[0]['embedding']\n",
    "        })\n",
    "        \n",
    "    return transformed_records"
   ]
  },
  {
   "cell_type": "markdown",
   "metadata": {},
   "source": [
    "## Create source data vector embeddings and save locally\n",
    "\n",
    "Open the text file that represents our source data, read the data into chunks, get OpenAI embeddings for each chunk and create records that can be saved offline.\n",
    "\n",
    "This operation takes awhile because each"
   ]
  },
  {
   "cell_type": "code",
   "execution_count": 5,
   "metadata": {},
   "outputs": [
    {
     "name": "stdout",
     "output_type": "stream",
     "text": [
      "PDF source extracted to text source file\n"
     ]
    },
    {
     "name": "stderr",
     "output_type": "stream",
     "text": [
      "100%|██████████| 1929/1929 [00:00<00:00, 1433270.58it/s]"
     ]
    },
    {
     "name": "stdout",
     "output_type": "stream",
     "text": [
      "Text source embeddings generated and saved to embedding archive\n"
     ]
    },
    {
     "name": "stderr",
     "output_type": "stream",
     "text": [
      "\n"
     ]
    }
   ],
   "source": [
    "import pickle\n",
    "from tqdm.auto import tqdm\n",
    "from pdfminer.high_level import extract_text\n",
    "\n",
    "pdf_source_text = extract_text(PDF_SOURCE_FILE)\n",
    "source_data = open(SOURCE_TEXT_FILE, 'w')\n",
    "source_data.write(pdf_source_text)\n",
    "print(\"PDF source extracted to text source file\")\n",
    "\n",
    "rf = open(SOURCE_TEXT_FILE, 'r', encoding='ISO-8859-1').read()\n",
    "\n",
    "chunked_data = []\n",
    "chunk_array = transform_record(rf)\n",
    "\n",
    "for i in tqdm(range(0, len(chunk_array))):\n",
    "    chunked_data.append(chunk_array[i])\n",
    "\n",
    "wf = open(EMBEDDING_ARCHIVE_FILE, 'wb')\n",
    "\n",
    "pickle.dump(chunked_data, wf)\n",
    "print(\"Text source embeddings generated and saved to embedding archive\")\n",
    "wf.close()\n",
    "#rf.close()\n"
   ]
  },
  {
   "cell_type": "markdown",
   "metadata": {},
   "source": [
    "## Upsert source data vector embeddings into Pinecone"
   ]
  },
  {
   "cell_type": "code",
   "execution_count": 6,
   "metadata": {
    "ExecuteTime": {
     "end_time": "2023-06-26T12:49:35.959942Z",
     "start_time": "2023-06-26T12:49:25.928643Z"
    }
   },
   "outputs": [
    {
     "name": "stderr",
     "output_type": "stream",
     "text": [
      "100%|██████████| 61/61 [00:30<00:00,  1.98it/s]\n"
     ]
    }
   ],
   "source": [
    "from tqdm.auto import tqdm  # this is our progress bar\n",
    "from pinecone_text.sparse import BM25Encoder\n",
    "import pickle\n",
    "\n",
    "def prepare_entries_for_pinecone(entries):\n",
    "    \"\"\"\n",
    "    Prepares an array of entries for upsert to Pinecone.\n",
    "    Each entry should have a 'vector' field containing a list of floats.\n",
    "    \"\"\"\n",
    "    vectors = []\n",
    "    for entry in entries:\n",
    "        vector = entry['vector']\n",
    "        id = entry.get('chunk_id', '')\n",
    "        metadata = entry.get('metadata', {'chunk_id': entry.get('chunk_id', ''),'parent_id': entry.get('chunk_parent_id', ''), 'chunk_text': entry.get('chunk_text', '')})\n",
    "        values = [v for v in vector]\n",
    "        vectors.append({'id': id, 'metadata': metadata, 'values': values})\n",
    "    return {'vectors': vectors, 'namespace': ''}\n",
    "\n",
    "vector_data = pickle.load(open(EMBEDDING_ARCHIVE_FILE, 'rb'))\n",
    "vectors = prepare_entries_for_pinecone(vector_data)\n",
    "\n",
    "batch_size = 32  # process everything in batches of 32\n",
    "for i in tqdm(range(0, len(vectors['vectors']), batch_size)):\n",
    "    ids_batch = [id['id'] for id in vectors['vectors'][i:i+batch_size]]\n",
    "    embeds = [id['values'] for id in vectors['vectors'][i:i+batch_size]]\n",
    "    meta = [id['metadata'] for id in vectors['vectors'][i:i+batch_size]]\n",
    "    upserts = []\n",
    "    # loop through the data and create dictionaries for uploading documents to pinecone index\n",
    "    # for _id, sparse, dense, meta in zip(ids_batch, sparse_values, embeds, meta):\n",
    "    for _id,dense, meta in zip(ids_batch, embeds, meta):\n",
    "        upserts.append({\n",
    "            'id': _id,\n",
    "            'values': dense,\n",
    "            'metadata': meta\n",
    "        })\n",
    "    # upload the documents to the new hybrid index\n",
    "    index.upsert(upserts, namespace=PINECONE_NAMESPACE)"
   ]
  },
  {
   "cell_type": "code",
   "execution_count": 7,
   "metadata": {
    "ExecuteTime": {
     "end_time": "2023-06-26T12:40:00.944036Z",
     "start_time": "2023-06-26T12:40:00.930770Z"
    }
   },
   "outputs": [
    {
     "data": {
      "text/plain": [
       "{'dimension': 1536,\n",
       " 'index_fullness': 0.0,\n",
       " 'namespaces': {'adp': {'vector_count': 301}, 'citi': {'vector_count': 1929}},\n",
       " 'total_vector_count': 2230}"
      ]
     },
     "execution_count": 7,
     "metadata": {},
     "output_type": "execute_result"
    }
   ],
   "source": [
    "PINECONE_NAMESPACE\n",
    "index.describe_index_stats()"
   ]
  },
  {
   "cell_type": "markdown",
   "metadata": {},
   "source": [
    "## Delete pinecone index"
   ]
  },
  {
   "cell_type": "code",
   "execution_count": null,
   "metadata": {},
   "outputs": [],
   "source": [
    "index.delete(deleteAll='true', namespace=PINECONE_NAMESPACE)"
   ]
  },
  {
   "cell_type": "code",
   "execution_count": null,
   "metadata": {},
   "outputs": [],
   "source": []
  }
 ],
 "metadata": {
  "kernelspec": {
   "display_name": "Python 3 (ipykernel)",
   "language": "python",
   "name": "python3"
  },
  "language_info": {
   "codemirror_mode": {
    "name": "ipython",
    "version": 3
   },
   "file_extension": ".py",
   "mimetype": "text/x-python",
   "name": "python",
   "nbconvert_exporter": "python",
   "pygments_lexer": "ipython3",
   "version": "3.11.3"
  }
 },
 "nbformat": 4,
 "nbformat_minor": 1
}
